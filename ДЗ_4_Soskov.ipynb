{
 "cells": [
  {
   "cell_type": "code",
   "execution_count": 79,
   "metadata": {},
   "outputs": [
    {
     "data": {
      "text/plain": [
       "70492524767089125814114"
      ]
     },
     "execution_count": 79,
     "metadata": {},
     "output_type": "execute_result"
    }
   ],
   "source": [
    "def fibon (n): #функция n-го числа Фибоначчи\n",
    "    a = 0\n",
    "    b = 1\n",
    "    res = 1\n",
    "    \n",
    "    if n == 0:\n",
    "        return a\n",
    "    \n",
    "    for i in range(n-1):\n",
    "        res = a + b\n",
    "        a = b\n",
    "        b = res\n",
    "    \n",
    "    return res\n",
    "\n",
    "fibon (111) #вызов функции\n",
    "        "
   ]
  },
  {
   "cell_type": "code",
   "execution_count": 125,
   "metadata": {},
   "outputs": [
    {
     "data": {
      "text/plain": [
       "[1, 0, 3, 0, 5, 0, 1, 0, 7, 0, 88, 0, 8, 0, 8, 0, 8, 0, 8]"
      ]
     },
     "execution_count": 125,
     "metadata": {},
     "output_type": "execute_result"
    }
   ],
   "source": [
    "def nul (x): #фукнция расстановки нулей\n",
    "    \n",
    "    if x.count(0) > 0: #условие на некорректный вектор\n",
    "        return print('Incorrect list')\n",
    "    \n",
    "    if len(x) == 0: #условие на пустой список\n",
    "        return print('Empty list')\n",
    "    \n",
    "    n = len(x)\n",
    "    while n > 0:\n",
    "        x.insert(n, 0)\n",
    "        n = n-1\n",
    "    x.pop()\n",
    "    \n",
    "    return x\n",
    "\n",
    "nul ([1,3,5,1,7,88,8,8,8,8]) #вызов функции"
   ]
  },
  {
   "cell_type": "code",
   "execution_count": null,
   "metadata": {},
   "outputs": [],
   "source": []
  },
  {
   "cell_type": "code",
   "execution_count": null,
   "metadata": {},
   "outputs": [],
   "source": []
  },
  {
   "cell_type": "code",
   "execution_count": null,
   "metadata": {},
   "outputs": [],
   "source": []
  }
 ],
 "metadata": {
  "kernelspec": {
   "display_name": "Python 3",
   "language": "python",
   "name": "python3"
  },
  "language_info": {
   "codemirror_mode": {
    "name": "ipython",
    "version": 3
   },
   "file_extension": ".py",
   "mimetype": "text/x-python",
   "name": "python",
   "nbconvert_exporter": "python",
   "pygments_lexer": "ipython3",
   "version": "3.7.4"
  }
 },
 "nbformat": 4,
 "nbformat_minor": 2
}
